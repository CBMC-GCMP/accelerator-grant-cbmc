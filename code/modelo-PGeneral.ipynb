{
 "cells": [
  {
   "cell_type": "code",
   "execution_count": 4,
   "metadata": {},
   "outputs": [
    {
     "name": "stderr",
     "output_type": "stream",
     "text": [
      "/usr/local/lib/python3.8/site-packages/scipy/__init__.py:146: UserWarning: A NumPy version >=1.16.5 and <1.23.0 is required for this version of SciPy (detected version 1.23.2\n",
      "  warnings.warn(f\"A NumPy version >={np_minversion} and <{np_maxversion}\"\n"
     ]
    }
   ],
   "source": [
    "import numpy as np\n",
    "import pandas as pd\n",
    "import os\n",
    "from pandas import read_csv\n",
    "import tensorflow\n",
    "from keras.models import Sequential\n",
    "from keras.layers.core import Dropout\n",
    "from keras.layers import  Dropout,ConvLSTM2D,Conv3DTranspose,Dense,ReLU\n",
    "import imageio\n",
    "from functools import reduce\n",
    "import matplotlib.pyplot as plt\n",
    "import cv2\n",
    "import tqdm\n",
    "import time\n",
    "from datetime import datetime as dt\n",
    "import tensorflow as tf\n",
    "import scipy.stats\n",
    "from scipy import stats\n"
   ]
  },
  {
   "cell_type": "code",
   "execution_count": 2,
   "metadata": {},
   "outputs": [],
   "source": [
    "def unpivot(frame):\n",
    "    N, K = frame.shape\n",
    "    data = {\n",
    "        \"value\": frame.to_numpy().ravel(\"F\"),\n",
    "        \"lon\": np.asarray(frame.columns).repeat(N),\n",
    "        \"lat\": np.tile(np.asarray(frame.index), K),\n",
    "    }\n",
    "    return pd.DataFrame(data, columns=[\"lat\", \"lon\", \"value\"])"
   ]
  },
  {
   "cell_type": "markdown",
   "metadata": {},
   "source": [
    "## Pre-procesing"
   ]
  },
  {
   "cell_type": "markdown",
   "metadata": {},
   "source": [
    "### Prepare SST"
   ]
  },
  {
   "cell_type": "code",
   "execution_count": 3,
   "metadata": {},
   "outputs": [],
   "source": [
    "#conect to the bucket\n",
    "bucket3 = 's3://acc-cmbc-vms/my-data/climate_scenarios/GFDL85/monthly_data' \n",
    "data_key3 = '_tos_gfdl_ssp585_1850_2014_monthly.csv' \n",
    "data_location3 = 's3://{}/{}'.format(bucket3,data_key3) \n",
    "sst0 = pd.read_csv(data_location3)\n",
    "data_key4 = '_tos_gfdl_ssp585_2015_2100_monthly.csv' \n",
    "data_location4 = 's3://{}/{}'.format(bucket3,data_key4)\n",
    "sst2 = pd.read_csv(data_location4)\n",
    "sst = pd.concat([sst0, sst2], ignore_index = True, axis = 0)\n",
    "sst = sst.set_index('date')\n",
    "sst = sst.loc['2008-01-01':'2021-01-01']#extract only the data for the training\n",
    "sst = sst.reset_index()\n",
    "date = sst['date']\n",
    "date_list1 = list(sst['date'])\n",
    "tt = pd.DataFrame(date_list1)\n",
    "date_list1 = tt[0].unique()\n",
    "sst['date'] = pd.to_datetime(sst['date'])\n",
    "sst = sst.set_index(['date'])\n",
    "sst = sst.drop(columns=['esm','ssp'])\n",
    "del sst0,sst2"
   ]
  },
  {
   "cell_type": "code",
   "execution_count": 4,
   "metadata": {},
   "outputs": [],
   "source": [
    "def transo1(data,date_list):\n",
    "    x1 = data.loc[date_list]\n",
    "    x1 = x1.reset_index()\n",
    "    op = data.columns\n",
    "    table = pd.pivot_table(x1, values=op[0], index=['lat'],columns=['lon']).fillna(0)\n",
    "    x2 = np.flipud(cv2.resize(np.array(table),[65,16]))\n",
    "    dt = pd.DataFrame(x2, columns=col, index=ind)\n",
    "    x = pd.DataFrame(unpivot(dt))\n",
    "    fecha = np.repeat(date_list,len(x))\n",
    "    x['date'] = fecha\n",
    "    return x"
   ]
  },
  {
   "cell_type": "code",
   "execution_count": 5,
   "metadata": {},
   "outputs": [],
   "source": [
    "def vectoriza(data,date_list):\n",
    "    for i in tqdm.tqdm(range(0,len(date_list))):\n",
    "        if i==0:\n",
    "            x = transo1(data,date_list[i])\n",
    "        else:\n",
    "            x1 = transo1(data,date_list[i])\n",
    "            x = pd.concat([x,x1], ignore_index = True, axis = 0)\n",
    "    return x"
   ]
  },
  {
   "cell_type": "code",
   "execution_count": 6,
   "metadata": {},
   "outputs": [],
   "source": [
    "table2 = pd.pivot_table(sst.loc['2008-01-01'], values='tos', index=['lat'],columns=['lon'])\n",
    "col = np.array(table2.columns)\n",
    "ind = np.array(table2.index)"
   ]
  },
  {
   "cell_type": "code",
   "execution_count": 7,
   "metadata": {},
   "outputs": [
    {
     "name": "stderr",
     "output_type": "stream",
     "text": [
      "100%|██████████| 157/157 [00:01<00:00, 84.67it/s]\n"
     ]
    }
   ],
   "source": [
    "sstv = vectoriza(sst,date_list1)"
   ]
  },
  {
   "cell_type": "code",
   "execution_count": 8,
   "metadata": {},
   "outputs": [],
   "source": [
    "sstv.rename(columns = {'value':'tos'}, inplace = True)"
   ]
  },
  {
   "cell_type": "markdown",
   "metadata": {},
   "source": [
    "### O2"
   ]
  },
  {
   "cell_type": "code",
   "execution_count": 9,
   "metadata": {},
   "outputs": [],
   "source": [
    "data_key4 = '_o2_gfdl_ssp585_1850_2014_monthly.csv' #key or the name of the file\n",
    "data_location4 = 's3://{}/{}'.format(bucket3,data_key4) #create the complete path in the format\n",
    "O2_surf1 = pd.read_csv(data_location4)\n",
    "data_key5 = '_o2_gfdl_ssp585_2015_2100_monthly.csv' #key or the name of the file\n",
    "data_location4 = 's3://{}/{}'.format(bucket3,data_key5) #create the complete path in the format\n",
    "O2_surf2 = pd.read_csv(data_location4)\n",
    "O2 = pd.concat([O2_surf1, O2_surf2], ignore_index= True, axis=0)\n",
    "O2 = O2.set_index('date')\n",
    "O2 = O2.loc['2008-01-01':'2021-01-01']\n",
    "O2 = O2.reset_index()\n",
    "O2['date'] = pd.to_datetime(O2['date'])\n",
    "O2 = O2.set_index(['date'])\n",
    "O2 = O2.drop(columns=['esm','ssp'])\n",
    "del O2_surf1, O2_surf2"
   ]
  },
  {
   "cell_type": "code",
   "execution_count": 10,
   "metadata": {},
   "outputs": [
    {
     "name": "stderr",
     "output_type": "stream",
     "text": [
      "100%|██████████| 157/157 [00:01<00:00, 84.59it/s]\n"
     ]
    }
   ],
   "source": [
    "o2v = vectoriza(O2,date_list1)\n"
   ]
  },
  {
   "cell_type": "code",
   "execution_count": 11,
   "metadata": {},
   "outputs": [],
   "source": [
    "o2v.rename(columns = {'value':'o2'}, inplace = True)"
   ]
  },
  {
   "cell_type": "markdown",
   "metadata": {},
   "source": [
    "### intpp"
   ]
  },
  {
   "cell_type": "code",
   "execution_count": 12,
   "metadata": {},
   "outputs": [],
   "source": [
    "bucket4 = 's3://acc-cmbc-vms/my-data/climate_scenarios/GFDL85/monthly_data' #this is the paath to the data\n",
    "data_key4 = '_intpp_gfdl_ssp585_1850_2014_monthly.csv' #key or the name of the file\n",
    "data_location4 = 's3://{}/{}'.format(bucket3,data_key4) #create the complete path in the format\n",
    "intpp1 = pd.read_csv(data_location4)\n",
    "data_key5 = '_intpp_gfdl_ssp585_2015_2100_monthly.csv' #key or the name of the file\n",
    "data_location4 = 's3://{}/{}'.format(bucket3,data_key5) #create the complete path in the format\n",
    "intpp2 = pd.read_csv(data_location4)\n",
    "intpp = pd.concat([intpp1, intpp2], ignore_index= True, axis=0)\n",
    "intpp = intpp.set_index('date')\n",
    "intpp = intpp.loc['2008-01-01':'2021-01-01']\n",
    "intpp = intpp.reset_index()\n",
    "intpp['date'] = pd.to_datetime(intpp['date'])\n",
    "intpp = intpp.set_index(['date'])\n",
    "intpp = intpp.drop(columns=['esm','ssp'])\n",
    "del intpp1, intpp2"
   ]
  },
  {
   "cell_type": "code",
   "execution_count": 13,
   "metadata": {},
   "outputs": [
    {
     "name": "stderr",
     "output_type": "stream",
     "text": [
      "100%|██████████| 157/157 [00:01<00:00, 85.16it/s]\n"
     ]
    }
   ],
   "source": [
    "intppv  = vectoriza(intpp,date_list1)"
   ]
  },
  {
   "cell_type": "code",
   "execution_count": 14,
   "metadata": {},
   "outputs": [],
   "source": [
    "intppv.rename(columns = {'value':'intpp'}, inplace = True)"
   ]
  },
  {
   "cell_type": "markdown",
   "metadata": {},
   "source": [
    "###  pH"
   ]
  },
  {
   "cell_type": "code",
   "execution_count": 15,
   "metadata": {},
   "outputs": [],
   "source": [
    "bucket4 = 's3://acc-cmbc-vms/my-data/climate_scenarios/GFDL85/monthly_data' #this is the paath to the data\n",
    "data_key4 = '_ph_gfdl_ssp585_1850_2014_monthly.csv' #key or the name of the file\n",
    "data_location4 = 's3://{}/{}'.format(bucket4,data_key4) #create the complete path in the format\n",
    "pH1 = pd.read_csv(data_location4)\n",
    "data_key5 = '_ph_gfdl_ssp585_2015_2100_monthly.csv' #key or the name of the file\n",
    "data_location4 = 's3://{}/{}'.format(bucket4,data_key5) #create the complete path in the format\n",
    "pH2 = pd.read_csv(data_location4)\n",
    "pH = pd.concat([pH1, pH2], ignore_index= True, axis=0)\n",
    "pH = pH.set_index('date')\n",
    "pH = pH.loc['2008-01-01':'2021-01-01']\n",
    "pH = pH.reset_index()\n",
    "pH['date'] = pd.to_datetime(pH['date'])\n",
    "pH = pH.set_index(['date'])\n",
    "pH = pH.drop(columns=['esm','ssp'])\n",
    "del pH1, pH2"
   ]
  },
  {
   "cell_type": "code",
   "execution_count": 16,
   "metadata": {},
   "outputs": [
    {
     "name": "stderr",
     "output_type": "stream",
     "text": [
      "100%|██████████| 157/157 [00:01<00:00, 82.36it/s]\n"
     ]
    }
   ],
   "source": [
    "pHv = vectoriza(pH,date_list1)"
   ]
  },
  {
   "cell_type": "code",
   "execution_count": 17,
   "metadata": {
    "jupyter": {
     "source_hidden": true
    }
   },
   "outputs": [],
   "source": [
    "pHv.rename(columns = {'value':'pH'}, inplace = True)"
   ]
  },
  {
   "cell_type": "markdown",
   "metadata": {},
   "source": [
    "### SO"
   ]
  },
  {
   "cell_type": "code",
   "execution_count": 18,
   "metadata": {},
   "outputs": [],
   "source": [
    "bucket4 = 's3://acc-cmbc-vms/my-data/climate_scenarios/GFDL85/monthly_data' #this is the paath to the data\n",
    "data_key4 = '_so_gfdl_ssp585_1850_2014_monthly.csv' #key or the name of the file\n",
    "data_location4 = 's3://{}/{}'.format(bucket4,data_key4) #create the complete path in the format\n",
    "so1 = pd.read_csv(data_location4)\n",
    "data_key5 = '_so_gfdl_ssp585_2015_2100_monthly.csv' #key or the name of the file\n",
    "data_location4 = 's3://{}/{}'.format(bucket4,data_key5) #create the complete path in the format\n",
    "so2 = pd.read_csv(data_location4)\n",
    "so = pd.concat([so1, so2], ignore_index= True, axis=0)\n",
    "so = so.set_index('date')\n",
    "so = so.loc['2008-01-01':'2021-01-01']\n",
    "so = so.reset_index()\n",
    "so['date'] = pd.to_datetime(so['date'])\n",
    "so = so.set_index(['date'])\n",
    "so = so.drop(columns=['esm','ssp'])\n",
    "del so1, so2"
   ]
  },
  {
   "cell_type": "code",
   "execution_count": 19,
   "metadata": {},
   "outputs": [
    {
     "name": "stderr",
     "output_type": "stream",
     "text": [
      "100%|██████████| 157/157 [00:01<00:00, 82.20it/s]\n"
     ]
    }
   ],
   "source": [
    "sov  = vectoriza(so,date_list1)"
   ]
  },
  {
   "cell_type": "code",
   "execution_count": 20,
   "metadata": {},
   "outputs": [],
   "source": [
    "sov.rename(columns = {'value':'so'}, inplace = True)"
   ]
  },
  {
   "cell_type": "markdown",
   "metadata": {},
   "source": [
    "### Load VMS points"
   ]
  },
  {
   "cell_type": "code",
   "execution_count": 21,
   "metadata": {},
   "outputs": [],
   "source": [
    "bucket = 's3://acc-cmbc-vms/my-data/datasets/fisheries_mtx' #this is the paath to the data\n",
    "data_key = 'vms_data_point_one.csv' #key or the name of the file\n",
    "data_location = 's3://{}/{}'.format(bucket,data_key) #create the complete path in the format\n",
    "data = pd.read_csv(data_location)\n",
    "data = data.drop(columns=['Unnamed: 0'])\n",
    "data.rename(columns = {'latitude':'lat', 'longitude':'lon'}, inplace = True)\n",
    "date_list = list(data['date'])\n",
    "tt = pd.DataFrame(date_list)\n",
    "date_list = tt[0].unique()\n",
    "data = data.set_index(['date'])"
   ]
  },
  {
   "cell_type": "markdown",
   "metadata": {},
   "source": [
    "#### Escalamiento de los datos de 0.1 a 0.5"
   ]
  },
  {
   "cell_type": "code",
   "execution_count": 22,
   "metadata": {},
   "outputs": [],
   "source": [
    "def transo(data,date_list):\n",
    "    x1 = data.loc[str(date_list)]\n",
    "    x1 = x1.reset_index()\n",
    "    table = pd.pivot_table(x1, values='yeld', index=['lat'],columns=['lon']).fillna(0)\n",
    "    x2 = cv2.resize(np.array(table),[16,65])\n",
    "    dt = pd.DataFrame(x2.transpose(), columns=col, index=ind)\n",
    "    x = pd.DataFrame(unpivot(dt))\n",
    "    fecha = np.repeat(date_list,len(x))\n",
    "    x['date'] = fecha\n",
    "    return x"
   ]
  },
  {
   "cell_type": "code",
   "execution_count": 23,
   "metadata": {},
   "outputs": [
    {
     "name": "stderr",
     "output_type": "stream",
     "text": [
      "100%|██████████| 428/428 [00:09<00:00, 44.38it/s]\n"
     ]
    }
   ],
   "source": [
    "for i in tqdm.tqdm(range(0,len(date_list))):\n",
    "    if i==0:\n",
    "        x = transo(data,date_list[i])\n",
    "    else:\n",
    "        x1 = transo(data,date_list[i])\n",
    "        x = pd.concat([x,x1], ignore_index = True, axis = 0)"
   ]
  },
  {
   "cell_type": "code",
   "execution_count": 24,
   "metadata": {},
   "outputs": [],
   "source": [
    "x.rename(columns = {'value':'yeld'}, inplace = True)"
   ]
  },
  {
   "cell_type": "markdown",
   "metadata": {},
   "source": [
    "## Unión de tablas de input"
   ]
  },
  {
   "cell_type": "code",
   "execution_count": 25,
   "metadata": {},
   "outputs": [],
   "source": [
    "datos = pd.DataFrame([sstv['date'],sstv['lat'],sstv['lon'],sstv['tos'],o2v['o2'],intppv['intpp'],pHv['pH'],sov['so']]).transpose()\n",
    "datos['date'] = pd.to_datetime(datos['date'])\n",
    "datos['date'] = datos['date'].dt.strftime('%Y-%m')"
   ]
  },
  {
   "cell_type": "code",
   "execution_count": 26,
   "metadata": {},
   "outputs": [],
   "source": [
    "x['date'] = pd.to_datetime(x['date'])\n",
    "x['date'] = x['date'].dt.strftime('%Y-%m')\n",
    "DATA = x.merge(datos)\n",
    "DATA.to_csv('DATA.csv')"
   ]
  },
  {
   "cell_type": "markdown",
   "metadata": {},
   "source": [
    "### Datos para pronóstio"
   ]
  },
  {
   "cell_type": "code",
   "execution_count": 27,
   "metadata": {},
   "outputs": [
    {
     "name": "stderr",
     "output_type": "stream",
     "text": [
      "100%|██████████| 960/960 [00:19<00:00, 50.45it/s]\n",
      "100%|██████████| 960/960 [00:19<00:00, 49.44it/s]\n",
      "100%|██████████| 960/960 [00:20<00:00, 47.19it/s]\n",
      "100%|██████████| 960/960 [00:20<00:00, 47.86it/s]\n",
      "100%|██████████| 960/960 [00:19<00:00, 50.11it/s]\n"
     ]
    }
   ],
   "source": [
    "bucket3 = 's3://acc-cmbc-vms/my-data/climate_scenarios/GFDL85/monthly_data' \n",
    "\n",
    "data_key4 = '_tos_gfdl_ssp585_2015_2100_monthly.csv' \n",
    "data_location4 = 's3://{}/{}'.format(bucket3,data_key4)\n",
    "ssti = pd.read_csv(data_location4)\n",
    "ssti = ssti.set_index('date')\n",
    "ssti = ssti.loc['2021-01-01':]\n",
    "ssti = ssti.reset_index()\n",
    "date_list2 = list(ssti['date'])\n",
    "tt = pd.DataFrame(date_list2)\n",
    "date_list2 = tt[0].unique()\n",
    "ssti = ssti.set_index(['date'])\n",
    "ssti = ssti.drop(columns=['esm','ssp'])\n",
    "sstvi = vectoriza(ssti,date_list2)\n",
    "sstvi.rename(columns = {'value':'tos'}, inplace = True)\n",
    "\n",
    "data_key5 = '_o2_gfdl_ssp585_2015_2100_monthly.csv' #key or the name of the file\n",
    "data_location4 = 's3://{}/{}'.format(bucket3,data_key5) #create the complete path in the format\n",
    "O2i = pd.read_csv(data_location4)\n",
    "O2i = O2i.set_index('date')\n",
    "O2i = O2i.loc['2021-01-01':]\n",
    "O2i = O2i.reset_index()\n",
    "O2i['date'] = pd.to_datetime(O2i['date'])\n",
    "O2i = O2i.set_index(['date'])\n",
    "O2i = O2i.drop(columns=['esm','ssp'])\n",
    "o2vi = vectoriza(O2i,date_list2)\n",
    "o2vi.rename(columns = {'value':'o2'}, inplace = True)\n",
    "\n",
    "data_key5 = '_intpp_gfdl_ssp585_2015_2100_monthly.csv' \n",
    "data_location4 = 's3://{}/{}'.format(bucket3,data_key5)\n",
    "intppi = pd.read_csv(data_location4)\n",
    "intppi = intppi.set_index('date')\n",
    "intppi = intppi.loc['2021-01-01':]\n",
    "intppi = intppi.reset_index()\n",
    "intppi['date'] = pd.to_datetime(intppi['date'])\n",
    "intppi = intppi.set_index(['date'])\n",
    "intppi = intppi.drop(columns=['esm','ssp'])\n",
    "intppvi  = vectoriza(intppi,date_list2)\n",
    "intppvi.rename(columns = {'value':'intpp'}, inplace = True)\n",
    "\n",
    "data_key5 = '_ph_gfdl_ssp585_2015_2100_monthly.csv' #key or the name of the file\n",
    "data_location4 = 's3://{}/{}'.format(bucket3,data_key5) #create the complete path in the format\n",
    "pHi = pd.read_csv(data_location4)\n",
    "pHi = pHi.set_index('date')\n",
    "pHi = pHi.loc['2021-01-01':]\n",
    "pHi = pHi.reset_index()\n",
    "pHi['date'] = pd.to_datetime(pHi['date'])\n",
    "pHi = pHi.set_index(['date'])\n",
    "pHi = pHi.drop(columns=['esm','ssp'])\n",
    "pHvi = vectoriza(pHi,date_list2)\n",
    "pHvi.rename(columns = {'value':'pH'}, inplace = True)\n",
    "\n",
    "data_key5 = '_so_gfdl_ssp585_2015_2100_monthly.csv' #key or the name of the file\n",
    "data_location4 = 's3://{}/{}'.format(bucket3,data_key5) #create the complete path in the format\n",
    "soi = pd.read_csv(data_location4)\n",
    "soi = soi.set_index('date')\n",
    "soi = soi.loc['2021-01-01':]\n",
    "soi = soi.reset_index()\n",
    "soi['date'] = pd.to_datetime(soi['date'])\n",
    "soi = soi.set_index(['date'])\n",
    "soi= soi.drop(columns=['esm','ssp'])\n",
    "sovi  = vectoriza(soi,date_list2)\n",
    "sovi.rename(columns = {'value':'so'}, inplace = True)\n",
    "\n",
    "datos2 = pd.DataFrame([sstvi['date'],sstvi['lat'],sstvi['lon'],sstvi['tos'],o2vi['o2'],intppvi['intpp'],pHvi['pH'],sovi['so']]).transpose()\n",
    "datos2['date'] = pd.to_datetime(datos2['date'])\n",
    "datos2['date'] = datos2['date'].dt.strftime('%Y-%m')\n",
    "datos2.to_csv('input_fore.csv')"
   ]
  },
  {
   "cell_type": "markdown",
   "metadata": {},
   "source": [
    "### Estandarización de los datos"
   ]
  },
  {
   "cell_type": "code",
   "execution_count": 28,
   "metadata": {},
   "outputs": [],
   "source": [
    "def probabilidad(X):\n",
    "    X=stats.zscore(X)\n",
    "    P=scipy.stats.norm.sf(abs(X))\n",
    "    return P"
   ]
  },
  {
   "cell_type": "code",
   "execution_count": 29,
   "metadata": {},
   "outputs": [],
   "source": [
    "def mimax(X):\n",
    "    Max = X.max()\n",
    "    Min = X.min()\n",
    "    Delta = Max - Min\n",
    "    STD = (X-Min)/Delta \n",
    "    return STD,Max,Min"
   ]
  },
  {
   "cell_type": "code",
   "execution_count": 30,
   "metadata": {},
   "outputs": [],
   "source": [
    "def demimax(X,Max,Min):\n",
    "    DST = X*(Max-Min)+Min\n",
    "    return DST"
   ]
  },
  {
   "cell_type": "code",
   "execution_count": 147,
   "metadata": {},
   "outputs": [],
   "source": [
    "STD_yeld = probabilidad(DATA['yeld'])\n",
    "STD_tos,Max_tos,Min_tos = mimax(DATA['tos'])\n",
    "STD_o2,Max_o2,Min_o2 = mimax(DATA['o2'])\n",
    "STD_intpp,Max_intpp,Min_intpp = mimax(DATA['intpp'])\n",
    "STD_pH,Max_pH,Min_pH = mimax(DATA['pH'])\n",
    "STD_so,Max_so,Min_so = mimax(DATA['so'])"
   ]
  },
  {
   "cell_type": "code",
   "execution_count": 148,
   "metadata": {},
   "outputs": [],
   "source": [
    "STD_tos = np.expand_dims(STD_tos,axis=1)\n",
    "STD_o2 = np.expand_dims(STD_o2, axis=1)\n",
    "STD_intpp = np.expand_dims(STD_intpp, axis=1)\n",
    "STD_pH = np.expand_dims(STD_pH, axis=1)\n",
    "STD_so = np.expand_dims(STD_so, axis=1)"
   ]
  },
  {
   "cell_type": "code",
   "execution_count": 149,
   "metadata": {},
   "outputs": [],
   "source": [
    "Input = np.append(STD_tos,STD_o2,axis=1) \n",
    "Input = np.append(Input,STD_intpp,axis=1)\n",
    "Input = np.append(Input,STD_pH,axis=1)\n",
    "Input = np.append(Input,STD_so,axis=1)"
   ]
  },
  {
   "cell_type": "code",
   "execution_count": 150,
   "metadata": {},
   "outputs": [],
   "source": [
    "Target = np.expand_dims(STD_yeld, axis=1)"
   ]
  },
  {
   "cell_type": "code",
   "execution_count": 151,
   "metadata": {},
   "outputs": [],
   "source": [
    "Input = np.asarray(Input).astype('float32')\n",
    "Target = np.asarray(Target).astype('float32')"
   ]
  },
  {
   "cell_type": "code",
   "execution_count": 152,
   "metadata": {},
   "outputs": [],
   "source": [
    "X_train, X_test= Input[0:346112,:] , Input[346112:,:]\n",
    "Y_train, Y_test= Target[0:346112,:], Target[346112:,:]\n",
    "X_train = X_train.reshape((X_train.shape[0], 1,X_train.shape[1]))\n",
    "X_test = X_test.reshape((X_test.shape[0], 1, X_test.shape[1]))"
   ]
  },
  {
   "cell_type": "code",
   "execution_count": 153,
   "metadata": {},
   "outputs": [
    {
     "name": "stdout",
     "output_type": "stream",
     "text": [
      "Dataset shape: (346112, 1, 5)\n",
      "Sample shape: (1, 5, 1)\n"
     ]
    }
   ],
   "source": [
    "training_set_shape = X_train.shape\n",
    "number_of_channels = 1\n",
    "sample_shape = (training_set_shape[1], training_set_shape[2], number_of_channels)\n",
    "print(f'Dataset shape: {training_set_shape}')\n",
    "print(f'Sample shape: {sample_shape}')"
   ]
  },
  {
   "cell_type": "markdown",
   "metadata": {},
   "source": [
    "## MODELO"
   ]
  },
  {
   "cell_type": "code",
   "execution_count": 154,
   "metadata": {},
   "outputs": [],
   "source": [
    "import tensorflow\n",
    "from keras.models import Sequential\n",
    "from keras.layers.core import Dropout\n",
    "from keras.layers import  Dropout,LSTM,Dense,ReLU,Conv1D\n",
    "input_shape = (1,5,1)\n"
   ]
  },
  {
   "cell_type": "code",
   "execution_count": 155,
   "metadata": {},
   "outputs": [],
   "source": [
    "model = Sequential()\n",
    "model.add(Dense(10,activation='softmax'))\n",
    "model.add(Dense(50,activation='linear'))\n",
    "model.add(Dense(1,activation='linear')) #softmax\n",
    "model.compile(loss='mse', optimizer='rmsprop' ,metrics=['poisson'])"
   ]
  },
  {
   "cell_type": "code",
   "execution_count": 156,
   "metadata": {},
   "outputs": [
    {
     "name": "stdout",
     "output_type": "stream",
     "text": [
      "Epoch 1/250\n",
      "347/347 [==============================] - 2s 3ms/step - loss: 0.0053 - poisson: 0.8187 - val_loss: 0.0034 - val_poisson: 0.8155\n",
      "Epoch 2/250\n",
      "347/347 [==============================] - 1s 3ms/step - loss: 0.0037 - poisson: 0.8153 - val_loss: 0.0035 - val_poisson: 0.8156\n",
      "Epoch 3/250\n",
      "347/347 [==============================] - 1s 3ms/step - loss: 0.0037 - poisson: 0.8153 - val_loss: 0.0035 - val_poisson: 0.8156\n",
      "Epoch 4/250\n",
      "347/347 [==============================] - 1s 3ms/step - loss: 0.0037 - poisson: 0.8153 - val_loss: 0.0035 - val_poisson: 0.8156\n",
      "Epoch 5/250\n",
      "347/347 [==============================] - 1s 3ms/step - loss: 0.0036 - poisson: 0.8153 - val_loss: 0.0036 - val_poisson: 0.8157\n",
      "Epoch 6/250\n",
      "347/347 [==============================] - 1s 3ms/step - loss: 0.0036 - poisson: 0.8153 - val_loss: 0.0035 - val_poisson: 0.8157\n",
      "Epoch 7/250\n",
      "347/347 [==============================] - 1s 3ms/step - loss: 0.0036 - poisson: 0.8153 - val_loss: 0.0034 - val_poisson: 0.8155\n",
      "Epoch 8/250\n",
      "347/347 [==============================] - 1s 3ms/step - loss: 0.0036 - poisson: 0.8153 - val_loss: 0.0035 - val_poisson: 0.8156\n",
      "Epoch 9/250\n",
      "347/347 [==============================] - 1s 3ms/step - loss: 0.0036 - poisson: 0.8153 - val_loss: 0.0035 - val_poisson: 0.8156\n",
      "Epoch 10/250\n",
      "347/347 [==============================] - 1s 3ms/step - loss: 0.0036 - poisson: 0.8153 - val_loss: 0.0036 - val_poisson: 0.8157\n",
      "Epoch 11/250\n",
      "347/347 [==============================] - 1s 3ms/step - loss: 0.0036 - poisson: 0.8152 - val_loss: 0.0036 - val_poisson: 0.8157\n",
      "Epoch 12/250\n",
      "347/347 [==============================] - 1s 3ms/step - loss: 0.0036 - poisson: 0.8152 - val_loss: 0.0035 - val_poisson: 0.8156\n",
      "Epoch 13/250\n",
      "347/347 [==============================] - 1s 3ms/step - loss: 0.0036 - poisson: 0.8152 - val_loss: 0.0034 - val_poisson: 0.8155\n",
      "Epoch 14/250\n",
      "347/347 [==============================] - 1s 3ms/step - loss: 0.0036 - poisson: 0.8152 - val_loss: 0.0034 - val_poisson: 0.8155\n",
      "Epoch 15/250\n",
      "347/347 [==============================] - 1s 3ms/step - loss: 0.0036 - poisson: 0.8152 - val_loss: 0.0035 - val_poisson: 0.8156\n",
      "Epoch 16/250\n",
      "347/347 [==============================] - 1s 3ms/step - loss: 0.0036 - poisson: 0.8152 - val_loss: 0.0035 - val_poisson: 0.8156\n",
      "Epoch 17/250\n",
      "347/347 [==============================] - 1s 3ms/step - loss: 0.0036 - poisson: 0.8152 - val_loss: 0.0037 - val_poisson: 0.8158\n",
      "Epoch 18/250\n",
      "347/347 [==============================] - 1s 3ms/step - loss: 0.0036 - poisson: 0.8152 - val_loss: 0.0035 - val_poisson: 0.8156\n",
      "Epoch 19/250\n",
      "347/347 [==============================] - 1s 3ms/step - loss: 0.0036 - poisson: 0.8152 - val_loss: 0.0034 - val_poisson: 0.8156\n",
      "Epoch 20/250\n",
      "347/347 [==============================] - 1s 3ms/step - loss: 0.0036 - poisson: 0.8152 - val_loss: 0.0035 - val_poisson: 0.8156\n",
      "Epoch 21/250\n",
      "347/347 [==============================] - 1s 3ms/step - loss: 0.0036 - poisson: 0.8152 - val_loss: 0.0035 - val_poisson: 0.8156\n",
      "Epoch 22/250\n",
      "347/347 [==============================] - 1s 3ms/step - loss: 0.0036 - poisson: 0.8152 - val_loss: 0.0036 - val_poisson: 0.8157\n",
      "Epoch 23/250\n",
      "347/347 [==============================] - 1s 3ms/step - loss: 0.0036 - poisson: 0.8152 - val_loss: 0.0036 - val_poisson: 0.8157\n",
      "Epoch 24/250\n",
      "347/347 [==============================] - 1s 3ms/step - loss: 0.0036 - poisson: 0.8152 - val_loss: 0.0034 - val_poisson: 0.8155\n",
      "Epoch 25/250\n",
      "347/347 [==============================] - 1s 3ms/step - loss: 0.0036 - poisson: 0.8152 - val_loss: 0.0036 - val_poisson: 0.8158\n",
      "Epoch 26/250\n",
      "347/347 [==============================] - 1s 3ms/step - loss: 0.0036 - poisson: 0.8152 - val_loss: 0.0036 - val_poisson: 0.8157\n",
      "Epoch 27/250\n",
      "347/347 [==============================] - 1s 3ms/step - loss: 0.0036 - poisson: 0.8152 - val_loss: 0.0035 - val_poisson: 0.8156\n",
      "Epoch 28/250\n",
      "347/347 [==============================] - 1s 3ms/step - loss: 0.0036 - poisson: 0.8152 - val_loss: 0.0035 - val_poisson: 0.8156\n",
      "Epoch 29/250\n",
      "347/347 [==============================] - 1s 3ms/step - loss: 0.0036 - poisson: 0.8152 - val_loss: 0.0037 - val_poisson: 0.8158\n",
      "Epoch 30/250\n",
      "347/347 [==============================] - 1s 3ms/step - loss: 0.0036 - poisson: 0.8152 - val_loss: 0.0035 - val_poisson: 0.8156\n",
      "Epoch 31/250\n",
      "347/347 [==============================] - 1s 3ms/step - loss: 0.0036 - poisson: 0.8152 - val_loss: 0.0034 - val_poisson: 0.8155\n",
      "Epoch 32/250\n",
      "347/347 [==============================] - 1s 3ms/step - loss: 0.0036 - poisson: 0.8152 - val_loss: 0.0034 - val_poisson: 0.8155\n",
      "Epoch 33/250\n",
      "347/347 [==============================] - 1s 3ms/step - loss: 0.0036 - poisson: 0.8152 - val_loss: 0.0035 - val_poisson: 0.8156\n",
      "Epoch 34/250\n",
      "347/347 [==============================] - 1s 3ms/step - loss: 0.0036 - poisson: 0.8152 - val_loss: 0.0038 - val_poisson: 0.8160\n",
      "Epoch 35/250\n",
      "347/347 [==============================] - 1s 3ms/step - loss: 0.0036 - poisson: 0.8152 - val_loss: 0.0035 - val_poisson: 0.8156\n",
      "Epoch 36/250\n",
      "347/347 [==============================] - 1s 3ms/step - loss: 0.0036 - poisson: 0.8152 - val_loss: 0.0034 - val_poisson: 0.8155\n",
      "Epoch 37/250\n",
      "347/347 [==============================] - 1s 3ms/step - loss: 0.0036 - poisson: 0.8152 - val_loss: 0.0034 - val_poisson: 0.8155\n",
      "Epoch 38/250\n",
      "347/347 [==============================] - 1s 3ms/step - loss: 0.0036 - poisson: 0.8152 - val_loss: 0.0035 - val_poisson: 0.8157\n"
     ]
    }
   ],
   "source": [
    "from keras.callbacks import EarlyStopping, ModelCheckpoint\n",
    "# Vijilamos el proceso de entrenamiento para detenerlo cuando encuentre un óptimo.\n",
    "callbacks = [EarlyStopping(monitor='val_loss', patience=25), ModelCheckpoint(filepath='best_model.h5', monitor='val_loss', save_best_only=True)]\n",
    "\n",
    "history = model.fit(X_train, Y_train, epochs=250, batch_size=1000,validation_data=(X_test, Y_test) ,verbose=1,shuffle=True, callbacks=callbacks)"
   ]
  },
  {
   "cell_type": "code",
   "execution_count": 157,
   "metadata": {},
   "outputs": [
    {
     "name": "stdout",
     "output_type": "stream",
     "text": [
      "2704/2704 [==============================] - 2s 846us/step - loss: 0.0035 - poisson: 0.8157\n",
      "Test loss: 0.003539998084306717\n",
      "Test accuracy: 0.8156507015228271\n"
     ]
    },
    {
     "data": {
      "image/png": "[encoded data removed]",
      "text/plain": [
       "<Figure size 432x288 with 1 Axes>"
      ]
     },
     "metadata": {
      "needs_background": "light"
     },
     "output_type": "display_data"
    },
    {
     "data": {
      "image/png": "[encoded data removed]",
      "text/plain": [
       "<Figure size 432x288 with 1 Axes>"
      ]
     },
     "metadata": {
      "needs_background": "light"
     },
     "output_type": "display_data"
    }
   ],
   "source": [
    "scores = model.evaluate(X_test, Y_test, verbose=1)\n",
    "print('Test loss:', scores[0])\n",
    "print('Test accuracy:', scores[1])\n",
    "\n",
    "\n",
    "plt.plot(history.history['loss'])\n",
    "plt.plot(history.history['val_loss'])\n",
    "plt.title('Model loss')\n",
    "plt.ylabel('Loss')\n",
    "plt.xlabel('Epoch')\n",
    "plt.legend(['Train', 'Test'], loc='upper left')\n",
    "plt.show()\n",
    "\n",
    "\n",
    "plt.plot(history.history['poisson'])\n",
    "plt.plot(history.history['val_poisson'])\n",
    "plt.title('Model accuracy')\n",
    "plt.ylabel('Accuracy')\n",
    "plt.xlabel('Epoch')\n",
    "plt.legend(['Train', 'Test'], loc='upper left')\n",
    "plt.show()"
   ]
  },
  {
   "cell_type": "code",
   "execution_count": 158,
   "metadata": {},
   "outputs": [],
   "source": [
    "te = model(X_test)\n",
    "#te = demimax(np.array(te[:,0,0]),Max_yeld,Min_yeld)\n",
    "model.save('Best1_model.h5')"
   ]
  },
  {
   "cell_type": "code",
   "execution_count": 159,
   "metadata": {},
   "outputs": [],
   "source": [
    "New_data = DATA.loc[346112:]\n",
    "New_data = New_data.reset_index()"
   ]
  },
  {
   "cell_type": "code",
   "execution_count": 160,
   "metadata": {},
   "outputs": [],
   "source": [
    "A = pd.DataFrame(np.reshape(te,(86528,)))"
   ]
  },
  {
   "cell_type": "code",
   "execution_count": 161,
   "metadata": {},
   "outputs": [],
   "source": [
    "A.rename(columns = {0:'Forecas_yeld'}, inplace = True)"
   ]
  },
  {
   "cell_type": "code",
   "execution_count": 162,
   "metadata": {},
   "outputs": [],
   "source": [
    "New_data.insert(0,'Forecast_yeld',A)"
   ]
  },
  {
   "cell_type": "code",
   "execution_count": 163,
   "metadata": {},
   "outputs": [],
   "source": [
    "New_data=New_data.set_index(['date','lat','lon'])"
   ]
  },
  {
   "cell_type": "code",
   "execution_count": 164,
   "metadata": {},
   "outputs": [],
   "source": [
    "Dt=New_data.loc['2021-01']\n",
    "Dt = Dt.reset_index()"
   ]
  },
  {
   "cell_type": "code",
   "execution_count": 165,
   "metadata": {},
   "outputs": [],
   "source": [
    "Dt.to_csv('test_own_model.csv')"
   ]
  },
  {
   "cell_type": "markdown",
   "metadata": {},
   "source": [
    "## Forecast 2021:2100"
   ]
  },
  {
   "cell_type": "markdown",
   "metadata": {},
   "source": [
    "#### pre procesing the input"
   ]
  },
  {
   "cell_type": "code",
   "execution_count": 166,
   "metadata": {},
   "outputs": [],
   "source": [
    "STD_tos = datos2['tos']\n",
    "STD_o2 = datos2['o2']\n",
    "STD_intpp = datos2['intpp']\n",
    "STD_pH = datos2['pH']\n",
    "STD_so = datos2['so']\n",
    "\n",
    "STD_tos = np.expand_dims(STD_tos,axis=1)\n",
    "STD_o2 = np.expand_dims(STD_o2, axis=1)\n",
    "STD_intpp = np.expand_dims(STD_intpp, axis=1)\n",
    "STD_pH = np.expand_dims(STD_pH, axis=1)\n",
    "STD_so = np.expand_dims(STD_so, axis=1)\n",
    "\n",
    "Input = np.append(STD_tos,STD_o2,axis=1) \n",
    "Input = np.append(Input,STD_intpp,axis=1)\n",
    "Input = np.append(Input,STD_pH,axis=1)\n",
    "Input = np.append(Input,STD_so,axis=1)\n",
    "Input = np.asarray(Input).astype('float32')\n",
    "\n",
    "X_test= Input[:,:]\n",
    "X_test = X_test.reshape((X_test.shape[0], 1, X_test.shape[1]))\n",
    "\n",
    "Pb = model.predict(X_test)\n",
    "Pb =  pd.DataFrame(np.reshape(Pb,(998400,)))\n",
    "Pb.rename(columns = {0:'Forecas_yeld_P'}, inplace = True)\n"
   ]
  },
  {
   "cell_type": "code",
   "execution_count": 167,
   "metadata": {},
   "outputs": [],
   "source": [
    "New_data = datos2\n",
    "New_data = New_data.reset_index()\n",
    "New_data.insert(0,'Forecast_yeld_P',Pb)\n",
    "New_data=New_data.set_index(['date','lat','lon'])\n"
   ]
  },
  {
   "cell_type": "code",
   "execution_count": 168,
   "metadata": {},
   "outputs": [],
   "source": [
    "Dt=New_data.loc['2021-01':'2030-01']\n",
    "#Dt=New_data.loc['2021-01':]\n",
    "Dt = Dt.reset_index()\n",
    "Dt.to_csv('Forecast2_own_model.csv')"
   ]
  },
  {
   "cell_type": "code",
   "execution_count": 7,
   "metadata": {},
   "outputs": [],
   "source": [
    "Dt=read_csv('Forecast2_own_model.csv')"
   ]
  },
  {
   "cell_type": "code",
   "execution_count": 59,
   "metadata": {},
   "outputs": [],
   "source": [
    "Fechas=list(Dt['date'].unique())\n",
    "area=[]\n",
    "for i in Fechas:\n",
    "    A=Dt[Dt['date']== i]\n",
    "    table = pd.pivot_table(A, values='Forecast_yeld_P', index=['lat'],columns=['lon']).fillna(0)\n",
    "    area.append(table[table > 0.44].count().sum())\n"
   ]
  },
  {
   "cell_type": "code",
   "execution_count": 58,
   "metadata": {},
   "outputs": [
    {
     "data": {
      "text/plain": [
       "[]"
      ]
     },
     "execution_count": 58,
     "metadata": {},
     "output_type": "execute_result"
    }
   ],
   "source": [
    "area"
   ]
  },
  {
   "cell_type": "code",
   "execution_count": 62,
   "metadata": {},
   "outputs": [],
   "source": [
    "Fechas=list(Dt['date'].unique())\n",
    "P_mean=[]\n",
    "P_std=[]\n",
    "P_min=[]\n",
    "P_max=[]\n",
    "for i in Fechas:\n",
    "    A=Dt[Dt['date']== i]\n",
    "    P_mean.append(A['Forecast_yeld_P'].mean())\n",
    "    P_std.append(A['Forecast_yeld_P'].std())\n",
    "    P_min.append(A['Forecast_yeld_P'].min())\n",
    "    P_max.append(A['Forecast_yeld_P'].max())\n",
    "    \n",
    "import imageio\n",
    "a=0\n",
    "filenames = []\n",
    "li_max = Dt['Forecast_yeld_P'].max()+(Dt['Forecast_yeld_P'].max()*0.01)\n",
    "li_min = Dt['Forecast_yeld_P'].min()-(Dt['Forecast_yeld_P'].min()*0.01)\n",
    "\n",
    "for i in Fechas:\n",
    "    A=Dt[Dt['date']== i]\n",
    "    table = pd.pivot_table(A, values='Forecast_yeld_P', index=['lat'],columns=['lon']).fillna(0)\n",
    "    fig = plt.subplots()\n",
    "\n",
    "\n",
    "    plt.subplot(3, 1, 1)\n",
    "    im = plt.imshow(table, vmin=0.410,vmax=0.485)\n",
    "    plt.colorbar(im, pad=0.01)\n",
    "    plt.suptitle(f'probabilidad de pesca por cuadrante, fecha: {i}')\n",
    "    plt.subplot(3 ,1, 2)\n",
    "    plt.plot(P_mean)\n",
    "    plt.plot(a,P_mean[a],'ro')\n",
    "    \n",
    "    plt.subplot(3 ,1, 3)\n",
    "    plt.plot(area)\n",
    "    plt.plot(a,area[a],'bo')\n",
    "    \n",
    "    a = a+1\n",
    "    \n",
    "    filename = f'A{i}.png'\n",
    "    filenames.append(filename)\n",
    "    plt.savefig(filename)\n",
    "    plt.close()\n",
    "\n",
    "with imageio.get_writer('mygif01.gif', mode='I') as writer:\n",
    "    for filename in filenames:\n",
    "        image = imageio.imread(filename)\n",
    "        for i in range(5):\n",
    "            writer.append_data(image)\n",
    "\n",
    "for filename in set(filenames):\n",
    "    os.remove(filename)"
   ]
  },
  {
   "cell_type": "code",
   "execution_count": null,
   "metadata": {},
   "outputs": [],
   "source": []
  },
  {
   "cell_type": "code",
   "execution_count": null,
   "metadata": {
    "scrolled": true
   },
   "outputs": [],
   "source": [
    "print(Max_tos,Min_tos)\n",
    "print(Max_o2,Min_o2)\n",
    "print(Max_intpp,Min_intpp)\n",
    "print(Max_pH,Min_pH)\n",
    "print(Max_so,Min_so)"
   ]
  },
  {
   "cell_type": "code",
   "execution_count": null,
   "metadata": {},
   "outputs": [],
   "source": []
  }
 ],
 "metadata": {
  "instance_type": "ml.m5.8xlarge",
  "kernelspec": {
   "display_name": "Python 3 (TensorFlow 2.6 Python 3.8 CPU Optimized)",
   "language": "python",
   "name": "python3__SAGEMAKER_INTERNAL__arn:aws:sagemaker:us-east-1:081325390199:image/tensorflow-2.6-cpu-py38-ubuntu20.04-v1"
  },
  "language_info": {
   "codemirror_mode": {
    "name": "ipython",
    "version": 3
   },
   "file_extension": ".py",
   "mimetype": "text/x-python",
   "name": "python",
   "nbconvert_exporter": "python",
   "pygments_lexer": "ipython3",
   "version": "3.8.2"
  }
 },
 "nbformat": 4,
 "nbformat_minor": 4
}
